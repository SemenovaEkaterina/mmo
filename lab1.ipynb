{
 "cells": [
  {
   "cell_type": "markdown",
   "metadata": {
    "scrolled": true
   },
   "source": [
    "# 1) Текстовое описание набора данных\n",
    "\n",
    "В качестве набора данных мы будем использовать набор данных по преступлениям в Ванкувере - https://www.kaggle.com/wosaku/crime-in-vancouver/version/2\n",
    "\n",
    "Датасет состоит из одного файла:\n",
    "\n",
    "crime.txt - обучающая выборка\n",
    "\n",
    "Каждый файл содержит следующие колонки:\n",
    "\n",
    "TYPE - Тип преступления.\n",
    "YEAR - Год совершения зарегистрированных преступлений.\n",
    "MONTH - Месяц совершения зарегистрированных преступлений.\n",
    "DAY - День совершения зарегистрированных преступлений.\n",
    "HOUR - Час совершения зарегистрированных преступлений.\n",
    "MINUTE - Минута совершения зарегистрированных преступлений.\n",
    "HUNDRED_BLOCK - Обобщенное местонахождение отчета о преступной деятельности.\n",
    "NEIGHBOURHOOD - Район, где произошла преступная деятельность.\n",
    "X - Значения координат, преобразованные в UTM Zone 10.\n",
    "Y - Значения координат, преобразованные в UTM Zone 10.\n",
    "Latitude - Значения координат, преобразованные в широту.\n",
    "Longitude - Значения координат, преобразованные в долготу."
   ]
  },
  {
   "cell_type": "code",
   "execution_count": null,
   "metadata": {},
   "outputs": [],
   "source": [
    "import numpy as np\n",
    "import pandas as pd\n",
    "import seaborn as sns\n",
    "import matplotlib.pyplot as plt\n",
    "%matplotlib inline \n",
    "sns.set(style=\"ticks\")"
   ]
  },
  {
   "cell_type": "code",
   "execution_count": null,
   "metadata": {},
   "outputs": [],
   "source": [
    "data = pd.read_csv('datasets/crime.csv', sep=\",\")"
   ]
  },
  {
   "cell_type": "markdown",
   "metadata": {},
   "source": [
    "# 2) Основные характеристики датасета"
   ]
  },
  {
   "cell_type": "code",
   "execution_count": null,
   "metadata": {
    "scrolled": true
   },
   "outputs": [],
   "source": [
    "data.head()"
   ]
  },
  {
   "cell_type": "code",
   "execution_count": null,
   "metadata": {},
   "outputs": [],
   "source": [
    "total_count = data.shape\n",
    "print(f'Всего строк: {total_count[0]}\\nВсего столбцов: {total_count[1]}')"
   ]
  },
  {
   "cell_type": "code",
   "execution_count": null,
   "metadata": {},
   "outputs": [],
   "source": [
    "# Колонки\n",
    "data.dtypes"
   ]
  },
  {
   "cell_type": "code",
   "execution_count": null,
   "metadata": {},
   "outputs": [],
   "source": [
    "# Количество пустых значений\n",
    "for col in data.columns:\n",
    "    temp_null_count = data[data[col].isnull()].shape[0]\n",
    "    print(f'{col} - {temp_null_count}')"
   ]
  },
  {
   "cell_type": "code",
   "execution_count": null,
   "metadata": {},
   "outputs": [],
   "source": [
    "# Основные статистические характеристки набора данных\n",
    "data.describe()"
   ]
  },
  {
   "cell_type": "markdown",
   "metadata": {},
   "source": [
    "# 3) Визуальное исследование датасета"
   ]
  },
  {
   "cell_type": "markdown",
   "metadata": {},
   "source": [
    "## Диаграмма рассеяния\n",
    "\n",
    "Позволяет построить распределение двух колонок данных и визуально обнаружить наличие зависимости. Не предполагается, что значения упорядочены (например, по времени)."
   ]
  },
  {
   "cell_type": "code",
   "execution_count": null,
   "metadata": {},
   "outputs": [],
   "source": [
    "fig, ax = plt.subplots(figsize=(10,10)) \n",
    "sns.scatterplot(ax=ax, x='YEAR', y='MONTH', data=data)"
   ]
  },
  {
   "cell_type": "code",
   "execution_count": null,
   "metadata": {},
   "outputs": [],
   "source": []
  }
 ],
 "metadata": {
  "kernelspec": {
   "display_name": "Python 3",
   "language": "python",
   "name": "python3"
  },
  "language_info": {
   "codemirror_mode": {
    "name": "ipython",
    "version": 3
   },
   "file_extension": ".py",
   "mimetype": "text/x-python",
   "name": "python",
   "nbconvert_exporter": "python",
   "pygments_lexer": "ipython3",
   "version": "3.6.4"
  }
 },
 "nbformat": 4,
 "nbformat_minor": 2
}
